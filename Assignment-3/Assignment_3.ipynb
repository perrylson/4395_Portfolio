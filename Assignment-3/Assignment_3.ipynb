{
  "nbformat": 4,
  "nbformat_minor": 0,
  "metadata": {
    "colab": {
      "provenance": []
    },
    "kernelspec": {
      "name": "python3",
      "display_name": "Python 3"
    },
    "language_info": {
      "name": "python"
    }
  },
  "cells": [
    {
      "cell_type": "markdown",
      "source": [
        "### WordNet\n",
        "Wordnet is a database of nouns, verbs, adjectives, and adverbs. These words contain short definitions called glosses. Words are partitioned into synonym sets called synsets."
      ],
      "metadata": {
        "id": "80snaFdsAHNZ"
      }
    },
    {
      "cell_type": "code",
      "execution_count": 136,
      "metadata": {
        "colab": {
          "base_uri": "https://localhost:8080/"
        },
        "id": "zTJMqZtm_aFV",
        "outputId": "0e67e591-e40d-4c70-8349-dbdaff8cafee"
      },
      "outputs": [
        {
          "output_type": "stream",
          "name": "stderr",
          "text": [
            "[nltk_data] Downloading collection 'all'\n",
            "[nltk_data]    | \n",
            "[nltk_data]    | Downloading package abc to /root/nltk_data...\n",
            "[nltk_data]    |   Package abc is already up-to-date!\n",
            "[nltk_data]    | Downloading package alpino to /root/nltk_data...\n",
            "[nltk_data]    |   Package alpino is already up-to-date!\n",
            "[nltk_data]    | Downloading package averaged_perceptron_tagger to\n",
            "[nltk_data]    |     /root/nltk_data...\n",
            "[nltk_data]    |   Package averaged_perceptron_tagger is already up-\n",
            "[nltk_data]    |       to-date!\n",
            "[nltk_data]    | Downloading package averaged_perceptron_tagger_ru to\n",
            "[nltk_data]    |     /root/nltk_data...\n",
            "[nltk_data]    |   Package averaged_perceptron_tagger_ru is already\n",
            "[nltk_data]    |       up-to-date!\n",
            "[nltk_data]    | Downloading package basque_grammars to\n",
            "[nltk_data]    |     /root/nltk_data...\n",
            "[nltk_data]    |   Package basque_grammars is already up-to-date!\n",
            "[nltk_data]    | Downloading package bcp47 to /root/nltk_data...\n",
            "[nltk_data]    |   Package bcp47 is already up-to-date!\n",
            "[nltk_data]    | Downloading package biocreative_ppi to\n",
            "[nltk_data]    |     /root/nltk_data...\n",
            "[nltk_data]    |   Package biocreative_ppi is already up-to-date!\n",
            "[nltk_data]    | Downloading package bllip_wsj_no_aux to\n",
            "[nltk_data]    |     /root/nltk_data...\n",
            "[nltk_data]    |   Package bllip_wsj_no_aux is already up-to-date!\n",
            "[nltk_data]    | Downloading package book_grammars to\n",
            "[nltk_data]    |     /root/nltk_data...\n",
            "[nltk_data]    |   Package book_grammars is already up-to-date!\n",
            "[nltk_data]    | Downloading package brown to /root/nltk_data...\n",
            "[nltk_data]    |   Package brown is already up-to-date!\n",
            "[nltk_data]    | Downloading package brown_tei to /root/nltk_data...\n",
            "[nltk_data]    |   Package brown_tei is already up-to-date!\n",
            "[nltk_data]    | Downloading package cess_cat to /root/nltk_data...\n",
            "[nltk_data]    |   Package cess_cat is already up-to-date!\n",
            "[nltk_data]    | Downloading package cess_esp to /root/nltk_data...\n",
            "[nltk_data]    |   Package cess_esp is already up-to-date!\n",
            "[nltk_data]    | Downloading package chat80 to /root/nltk_data...\n",
            "[nltk_data]    |   Package chat80 is already up-to-date!\n",
            "[nltk_data]    | Downloading package city_database to\n",
            "[nltk_data]    |     /root/nltk_data...\n",
            "[nltk_data]    |   Package city_database is already up-to-date!\n",
            "[nltk_data]    | Downloading package cmudict to /root/nltk_data...\n",
            "[nltk_data]    |   Package cmudict is already up-to-date!\n",
            "[nltk_data]    | Downloading package comparative_sentences to\n",
            "[nltk_data]    |     /root/nltk_data...\n",
            "[nltk_data]    |   Package comparative_sentences is already up-to-\n",
            "[nltk_data]    |       date!\n",
            "[nltk_data]    | Downloading package comtrans to /root/nltk_data...\n",
            "[nltk_data]    |   Package comtrans is already up-to-date!\n",
            "[nltk_data]    | Downloading package conll2000 to /root/nltk_data...\n",
            "[nltk_data]    |   Package conll2000 is already up-to-date!\n",
            "[nltk_data]    | Downloading package conll2002 to /root/nltk_data...\n",
            "[nltk_data]    |   Package conll2002 is already up-to-date!\n",
            "[nltk_data]    | Downloading package conll2007 to /root/nltk_data...\n",
            "[nltk_data]    |   Package conll2007 is already up-to-date!\n",
            "[nltk_data]    | Downloading package crubadan to /root/nltk_data...\n",
            "[nltk_data]    |   Package crubadan is already up-to-date!\n",
            "[nltk_data]    | Downloading package dependency_treebank to\n",
            "[nltk_data]    |     /root/nltk_data...\n",
            "[nltk_data]    |   Package dependency_treebank is already up-to-date!\n",
            "[nltk_data]    | Downloading package dolch to /root/nltk_data...\n",
            "[nltk_data]    |   Package dolch is already up-to-date!\n",
            "[nltk_data]    | Downloading package europarl_raw to\n",
            "[nltk_data]    |     /root/nltk_data...\n",
            "[nltk_data]    |   Package europarl_raw is already up-to-date!\n",
            "[nltk_data]    | Downloading package extended_omw to\n",
            "[nltk_data]    |     /root/nltk_data...\n",
            "[nltk_data]    |   Package extended_omw is already up-to-date!\n",
            "[nltk_data]    | Downloading package floresta to /root/nltk_data...\n",
            "[nltk_data]    |   Package floresta is already up-to-date!\n",
            "[nltk_data]    | Downloading package framenet_v15 to\n",
            "[nltk_data]    |     /root/nltk_data...\n",
            "[nltk_data]    |   Package framenet_v15 is already up-to-date!\n",
            "[nltk_data]    | Downloading package framenet_v17 to\n",
            "[nltk_data]    |     /root/nltk_data...\n",
            "[nltk_data]    |   Package framenet_v17 is already up-to-date!\n",
            "[nltk_data]    | Downloading package gazetteers to /root/nltk_data...\n",
            "[nltk_data]    |   Package gazetteers is already up-to-date!\n",
            "[nltk_data]    | Downloading package genesis to /root/nltk_data...\n",
            "[nltk_data]    |   Package genesis is already up-to-date!\n",
            "[nltk_data]    | Downloading package gutenberg to /root/nltk_data...\n",
            "[nltk_data]    |   Package gutenberg is already up-to-date!\n",
            "[nltk_data]    | Downloading package ieer to /root/nltk_data...\n",
            "[nltk_data]    |   Package ieer is already up-to-date!\n",
            "[nltk_data]    | Downloading package inaugural to /root/nltk_data...\n",
            "[nltk_data]    |   Package inaugural is already up-to-date!\n",
            "[nltk_data]    | Downloading package indian to /root/nltk_data...\n",
            "[nltk_data]    |   Package indian is already up-to-date!\n",
            "[nltk_data]    | Downloading package jeita to /root/nltk_data...\n",
            "[nltk_data]    |   Package jeita is already up-to-date!\n",
            "[nltk_data]    | Downloading package kimmo to /root/nltk_data...\n",
            "[nltk_data]    |   Package kimmo is already up-to-date!\n",
            "[nltk_data]    | Downloading package knbc to /root/nltk_data...\n",
            "[nltk_data]    |   Package knbc is already up-to-date!\n",
            "[nltk_data]    | Downloading package large_grammars to\n",
            "[nltk_data]    |     /root/nltk_data...\n",
            "[nltk_data]    |   Package large_grammars is already up-to-date!\n",
            "[nltk_data]    | Downloading package lin_thesaurus to\n",
            "[nltk_data]    |     /root/nltk_data...\n",
            "[nltk_data]    |   Package lin_thesaurus is already up-to-date!\n",
            "[nltk_data]    | Downloading package mac_morpho to /root/nltk_data...\n",
            "[nltk_data]    |   Package mac_morpho is already up-to-date!\n",
            "[nltk_data]    | Downloading package machado to /root/nltk_data...\n",
            "[nltk_data]    |   Package machado is already up-to-date!\n",
            "[nltk_data]    | Downloading package masc_tagged to /root/nltk_data...\n",
            "[nltk_data]    |   Package masc_tagged is already up-to-date!\n",
            "[nltk_data]    | Downloading package maxent_ne_chunker to\n",
            "[nltk_data]    |     /root/nltk_data...\n",
            "[nltk_data]    |   Package maxent_ne_chunker is already up-to-date!\n",
            "[nltk_data]    | Downloading package maxent_treebank_pos_tagger to\n",
            "[nltk_data]    |     /root/nltk_data...\n",
            "[nltk_data]    |   Package maxent_treebank_pos_tagger is already up-\n",
            "[nltk_data]    |       to-date!\n",
            "[nltk_data]    | Downloading package moses_sample to\n",
            "[nltk_data]    |     /root/nltk_data...\n",
            "[nltk_data]    |   Package moses_sample is already up-to-date!\n",
            "[nltk_data]    | Downloading package movie_reviews to\n",
            "[nltk_data]    |     /root/nltk_data...\n",
            "[nltk_data]    |   Package movie_reviews is already up-to-date!\n",
            "[nltk_data]    | Downloading package mte_teip5 to /root/nltk_data...\n",
            "[nltk_data]    |   Package mte_teip5 is already up-to-date!\n",
            "[nltk_data]    | Downloading package mwa_ppdb to /root/nltk_data...\n",
            "[nltk_data]    |   Package mwa_ppdb is already up-to-date!\n",
            "[nltk_data]    | Downloading package names to /root/nltk_data...\n",
            "[nltk_data]    |   Package names is already up-to-date!\n",
            "[nltk_data]    | Downloading package nombank.1.0 to /root/nltk_data...\n",
            "[nltk_data]    |   Package nombank.1.0 is already up-to-date!\n",
            "[nltk_data]    | Downloading package nonbreaking_prefixes to\n",
            "[nltk_data]    |     /root/nltk_data...\n",
            "[nltk_data]    |   Package nonbreaking_prefixes is already up-to-date!\n",
            "[nltk_data]    | Downloading package nps_chat to /root/nltk_data...\n",
            "[nltk_data]    |   Package nps_chat is already up-to-date!\n",
            "[nltk_data]    | Downloading package omw to /root/nltk_data...\n",
            "[nltk_data]    |   Package omw is already up-to-date!\n",
            "[nltk_data]    | Downloading package omw-1.4 to /root/nltk_data...\n",
            "[nltk_data]    |   Package omw-1.4 is already up-to-date!\n",
            "[nltk_data]    | Downloading package opinion_lexicon to\n",
            "[nltk_data]    |     /root/nltk_data...\n",
            "[nltk_data]    |   Package opinion_lexicon is already up-to-date!\n",
            "[nltk_data]    | Downloading package panlex_swadesh to\n",
            "[nltk_data]    |     /root/nltk_data...\n",
            "[nltk_data]    |   Package panlex_swadesh is already up-to-date!\n",
            "[nltk_data]    | Downloading package paradigms to /root/nltk_data...\n",
            "[nltk_data]    |   Package paradigms is already up-to-date!\n",
            "[nltk_data]    | Downloading package pe08 to /root/nltk_data...\n",
            "[nltk_data]    |   Package pe08 is already up-to-date!\n",
            "[nltk_data]    | Downloading package perluniprops to\n",
            "[nltk_data]    |     /root/nltk_data...\n",
            "[nltk_data]    |   Package perluniprops is already up-to-date!\n",
            "[nltk_data]    | Downloading package pil to /root/nltk_data...\n",
            "[nltk_data]    |   Package pil is already up-to-date!\n",
            "[nltk_data]    | Downloading package pl196x to /root/nltk_data...\n",
            "[nltk_data]    |   Package pl196x is already up-to-date!\n",
            "[nltk_data]    | Downloading package porter_test to /root/nltk_data...\n",
            "[nltk_data]    |   Package porter_test is already up-to-date!\n",
            "[nltk_data]    | Downloading package ppattach to /root/nltk_data...\n",
            "[nltk_data]    |   Package ppattach is already up-to-date!\n",
            "[nltk_data]    | Downloading package problem_reports to\n",
            "[nltk_data]    |     /root/nltk_data...\n",
            "[nltk_data]    |   Package problem_reports is already up-to-date!\n",
            "[nltk_data]    | Downloading package product_reviews_1 to\n",
            "[nltk_data]    |     /root/nltk_data...\n",
            "[nltk_data]    |   Package product_reviews_1 is already up-to-date!\n",
            "[nltk_data]    | Downloading package product_reviews_2 to\n",
            "[nltk_data]    |     /root/nltk_data...\n",
            "[nltk_data]    |   Package product_reviews_2 is already up-to-date!\n",
            "[nltk_data]    | Downloading package propbank to /root/nltk_data...\n",
            "[nltk_data]    |   Package propbank is already up-to-date!\n",
            "[nltk_data]    | Downloading package pros_cons to /root/nltk_data...\n",
            "[nltk_data]    |   Package pros_cons is already up-to-date!\n",
            "[nltk_data]    | Downloading package ptb to /root/nltk_data...\n",
            "[nltk_data]    |   Package ptb is already up-to-date!\n",
            "[nltk_data]    | Downloading package punkt to /root/nltk_data...\n",
            "[nltk_data]    |   Package punkt is already up-to-date!\n",
            "[nltk_data]    | Downloading package qc to /root/nltk_data...\n",
            "[nltk_data]    |   Package qc is already up-to-date!\n",
            "[nltk_data]    | Downloading package reuters to /root/nltk_data...\n",
            "[nltk_data]    |   Package reuters is already up-to-date!\n",
            "[nltk_data]    | Downloading package rslp to /root/nltk_data...\n",
            "[nltk_data]    |   Package rslp is already up-to-date!\n",
            "[nltk_data]    | Downloading package rte to /root/nltk_data...\n",
            "[nltk_data]    |   Package rte is already up-to-date!\n",
            "[nltk_data]    | Downloading package sample_grammars to\n",
            "[nltk_data]    |     /root/nltk_data...\n",
            "[nltk_data]    |   Package sample_grammars is already up-to-date!\n",
            "[nltk_data]    | Downloading package semcor to /root/nltk_data...\n",
            "[nltk_data]    |   Package semcor is already up-to-date!\n",
            "[nltk_data]    | Downloading package senseval to /root/nltk_data...\n",
            "[nltk_data]    |   Package senseval is already up-to-date!\n",
            "[nltk_data]    | Downloading package sentence_polarity to\n",
            "[nltk_data]    |     /root/nltk_data...\n",
            "[nltk_data]    |   Package sentence_polarity is already up-to-date!\n",
            "[nltk_data]    | Downloading package sentiwordnet to\n",
            "[nltk_data]    |     /root/nltk_data...\n",
            "[nltk_data]    |   Package sentiwordnet is already up-to-date!\n",
            "[nltk_data]    | Downloading package shakespeare to /root/nltk_data...\n",
            "[nltk_data]    |   Package shakespeare is already up-to-date!\n",
            "[nltk_data]    | Downloading package sinica_treebank to\n",
            "[nltk_data]    |     /root/nltk_data...\n",
            "[nltk_data]    |   Package sinica_treebank is already up-to-date!\n",
            "[nltk_data]    | Downloading package smultron to /root/nltk_data...\n",
            "[nltk_data]    |   Package smultron is already up-to-date!\n",
            "[nltk_data]    | Downloading package snowball_data to\n",
            "[nltk_data]    |     /root/nltk_data...\n",
            "[nltk_data]    |   Package snowball_data is already up-to-date!\n",
            "[nltk_data]    | Downloading package spanish_grammars to\n",
            "[nltk_data]    |     /root/nltk_data...\n",
            "[nltk_data]    |   Package spanish_grammars is already up-to-date!\n",
            "[nltk_data]    | Downloading package state_union to /root/nltk_data...\n",
            "[nltk_data]    |   Package state_union is already up-to-date!\n",
            "[nltk_data]    | Downloading package stopwords to /root/nltk_data...\n",
            "[nltk_data]    |   Package stopwords is already up-to-date!\n",
            "[nltk_data]    | Downloading package subjectivity to\n",
            "[nltk_data]    |     /root/nltk_data...\n",
            "[nltk_data]    |   Package subjectivity is already up-to-date!\n",
            "[nltk_data]    | Downloading package swadesh to /root/nltk_data...\n",
            "[nltk_data]    |   Package swadesh is already up-to-date!\n",
            "[nltk_data]    | Downloading package switchboard to /root/nltk_data...\n",
            "[nltk_data]    |   Package switchboard is already up-to-date!\n",
            "[nltk_data]    | Downloading package tagsets to /root/nltk_data...\n",
            "[nltk_data]    |   Package tagsets is already up-to-date!\n",
            "[nltk_data]    | Downloading package timit to /root/nltk_data...\n",
            "[nltk_data]    |   Package timit is already up-to-date!\n",
            "[nltk_data]    | Downloading package toolbox to /root/nltk_data...\n",
            "[nltk_data]    |   Package toolbox is already up-to-date!\n",
            "[nltk_data]    | Downloading package treebank to /root/nltk_data...\n",
            "[nltk_data]    |   Package treebank is already up-to-date!\n",
            "[nltk_data]    | Downloading package twitter_samples to\n",
            "[nltk_data]    |     /root/nltk_data...\n",
            "[nltk_data]    |   Package twitter_samples is already up-to-date!\n",
            "[nltk_data]    | Downloading package udhr to /root/nltk_data...\n",
            "[nltk_data]    |   Package udhr is already up-to-date!\n",
            "[nltk_data]    | Downloading package udhr2 to /root/nltk_data...\n",
            "[nltk_data]    |   Package udhr2 is already up-to-date!\n",
            "[nltk_data]    | Downloading package unicode_samples to\n",
            "[nltk_data]    |     /root/nltk_data...\n",
            "[nltk_data]    |   Package unicode_samples is already up-to-date!\n",
            "[nltk_data]    | Downloading package universal_tagset to\n",
            "[nltk_data]    |     /root/nltk_data...\n",
            "[nltk_data]    |   Package universal_tagset is already up-to-date!\n",
            "[nltk_data]    | Downloading package universal_treebanks_v20 to\n",
            "[nltk_data]    |     /root/nltk_data...\n",
            "[nltk_data]    |   Package universal_treebanks_v20 is already up-to-\n",
            "[nltk_data]    |       date!\n",
            "[nltk_data]    | Downloading package vader_lexicon to\n",
            "[nltk_data]    |     /root/nltk_data...\n",
            "[nltk_data]    |   Package vader_lexicon is already up-to-date!\n",
            "[nltk_data]    | Downloading package verbnet to /root/nltk_data...\n",
            "[nltk_data]    |   Package verbnet is already up-to-date!\n",
            "[nltk_data]    | Downloading package verbnet3 to /root/nltk_data...\n",
            "[nltk_data]    |   Package verbnet3 is already up-to-date!\n",
            "[nltk_data]    | Downloading package webtext to /root/nltk_data...\n",
            "[nltk_data]    |   Package webtext is already up-to-date!\n",
            "[nltk_data]    | Downloading package wmt15_eval to /root/nltk_data...\n",
            "[nltk_data]    |   Package wmt15_eval is already up-to-date!\n",
            "[nltk_data]    | Downloading package word2vec_sample to\n",
            "[nltk_data]    |     /root/nltk_data...\n",
            "[nltk_data]    |   Package word2vec_sample is already up-to-date!\n",
            "[nltk_data]    | Downloading package wordnet to /root/nltk_data...\n",
            "[nltk_data]    |   Package wordnet is already up-to-date!\n",
            "[nltk_data]    | Downloading package wordnet2021 to /root/nltk_data...\n",
            "[nltk_data]    |   Package wordnet2021 is already up-to-date!\n",
            "[nltk_data]    | Downloading package wordnet2022 to /root/nltk_data...\n",
            "[nltk_data]    |   Package wordnet2022 is already up-to-date!\n",
            "[nltk_data]    | Downloading package wordnet31 to /root/nltk_data...\n",
            "[nltk_data]    |   Package wordnet31 is already up-to-date!\n",
            "[nltk_data]    | Downloading package wordnet_ic to /root/nltk_data...\n",
            "[nltk_data]    |   Package wordnet_ic is already up-to-date!\n",
            "[nltk_data]    | Downloading package words to /root/nltk_data...\n",
            "[nltk_data]    |   Package words is already up-to-date!\n",
            "[nltk_data]    | Downloading package ycoe to /root/nltk_data...\n",
            "[nltk_data]    |   Package ycoe is already up-to-date!\n",
            "[nltk_data]    | \n",
            "[nltk_data]  Done downloading collection all\n"
          ]
        },
        {
          "output_type": "execute_result",
          "data": {
            "text/plain": [
              "True"
            ]
          },
          "metadata": {},
          "execution_count": 136
        }
      ],
      "source": [
        "import math\n",
        "import nltk\n",
        "from nltk.corpus import wordnet as wn\n",
        "from nltk.wsd import lesk\n",
        "from nltk.corpus import sentiwordnet as swn\n",
        "from nltk.book import text2, text4\n",
        "nltk.download('all')"
      ]
    },
    {
      "cell_type": "markdown",
      "source": [
        "### Finding Definition, Examples, and Lemmas of a Noun\n",
        "\n",
        "Chosen synset is 'city.n.01'.\n",
        "\n"
      ],
      "metadata": {
        "id": "kQT9kYRYiQYV"
      }
    },
    {
      "cell_type": "code",
      "source": [
        "wn.synsets(\"city\")"
      ],
      "metadata": {
        "colab": {
          "base_uri": "https://localhost:8080/"
        },
        "id": "Di7YlKRTA0Cm",
        "outputId": "0017e92d-7460-48bf-a240-6a571d4fbe57"
      },
      "execution_count": 79,
      "outputs": [
        {
          "output_type": "execute_result",
          "data": {
            "text/plain": [
              "[Synset('city.n.01'), Synset('city.n.02'), Synset('city.n.03')]"
            ]
          },
          "metadata": {},
          "execution_count": 79
        }
      ]
    },
    {
      "cell_type": "code",
      "source": [
        "wn.synset('city.n.01').definition()"
      ],
      "metadata": {
        "colab": {
          "base_uri": "https://localhost:8080/",
          "height": 35
        },
        "id": "IlMnzF9MA0J9",
        "outputId": "8cca4827-7702-4777-e609-92d77f734d26"
      },
      "execution_count": 78,
      "outputs": [
        {
          "output_type": "execute_result",
          "data": {
            "text/plain": [
              "'a large and densely populated urban area; may include several independent administrative districts'"
            ],
            "application/vnd.google.colaboratory.intrinsic+json": {
              "type": "string"
            }
          },
          "metadata": {},
          "execution_count": 78
        }
      ]
    },
    {
      "cell_type": "code",
      "source": [
        "wn.synset('city.n.01').examples()"
      ],
      "metadata": {
        "colab": {
          "base_uri": "https://localhost:8080/"
        },
        "id": "LHsSgBmfCeSI",
        "outputId": "187379b4-36f0-4f86-f241-dd15ae5e59d4"
      },
      "execution_count": 21,
      "outputs": [
        {
          "output_type": "execute_result",
          "data": {
            "text/plain": [
              "['Ancient Troy was a great city']"
            ]
          },
          "metadata": {},
          "execution_count": 21
        }
      ]
    },
    {
      "cell_type": "code",
      "source": [
        " wn.synset('city.n.01').lemmas()"
      ],
      "metadata": {
        "colab": {
          "base_uri": "https://localhost:8080/"
        },
        "id": "zUv6KzW9CefE",
        "outputId": "de8e3e04-4d4d-4ede-b1dc-e20990dfc5f8"
      },
      "execution_count": 24,
      "outputs": [
        {
          "output_type": "execute_result",
          "data": {
            "text/plain": [
              "[Lemma('city.n.01.city'),\n",
              " Lemma('city.n.01.metropolis'),\n",
              " Lemma('city.n.01.urban_center')]"
            ]
          },
          "metadata": {},
          "execution_count": 24
        }
      ]
    },
    {
      "cell_type": "markdown",
      "source": [
        "### WordNet Noun Hierarchy\n",
        "This code section traverses up the WordNet hierarchy and prints synsets. WordNet organizes its nouns via hierarchical relations. At the top, synsets retain only abstract and general values. For instance, synsets such as \"location\" provide a vague but encompassing definition of a city. As you descend the hierarchy, synsets incorporate dinstictive and specific features. In this case, the synset, \"municipality\", provides a more concrete definition of a city. \n"
      ],
      "metadata": {
        "id": "2UbKzbDrFr5l"
      }
    },
    {
      "cell_type": "code",
      "source": [
        "city = wn.synset('city.n.01')\n",
        "hyp = city.hypernyms()[0]\n",
        "top = wn.synset('entity.n.01')\n",
        "while hyp:\n",
        "  print(hyp)\n",
        "  if hyp == top:\n",
        "    break\n",
        "  if hyp.hypernyms():\n",
        "    hyp = hyp.hypernyms()[0]"
      ],
      "metadata": {
        "colab": {
          "base_uri": "https://localhost:8080/"
        },
        "id": "BKycShLwA0Qd",
        "outputId": "3479b49b-0f49-4be1-f275-edd62737e270"
      },
      "execution_count": 63,
      "outputs": [
        {
          "output_type": "stream",
          "name": "stdout",
          "text": [
            "Synset('municipality.n.01')\n",
            "Synset('administrative_district.n.01')\n",
            "Synset('district.n.01')\n",
            "Synset('region.n.03')\n",
            "Synset('location.n.01')\n",
            "Synset('object.n.01')\n",
            "Synset('physical_entity.n.01')\n",
            "Synset('entity.n.01')\n"
          ]
        }
      ]
    },
    {
      "cell_type": "markdown",
      "source": [
        "### Extracting Hypernyms, Hyponyms, Meronyms, Holonyms, and Antonyms from a Noun\n"
      ],
      "metadata": {
        "id": "vS4d7-nQis7V"
      }
    },
    {
      "cell_type": "code",
      "source": [
        "wn.synset('city.n.01').hypernyms()"
      ],
      "metadata": {
        "colab": {
          "base_uri": "https://localhost:8080/"
        },
        "id": "xbOX-H5SA0Tb",
        "outputId": "8040c8f9-c829-478b-cd37-58848b2f5e21"
      },
      "execution_count": 29,
      "outputs": [
        {
          "output_type": "execute_result",
          "data": {
            "text/plain": [
              "[Synset('municipality.n.01')]"
            ]
          },
          "metadata": {},
          "execution_count": 29
        }
      ]
    },
    {
      "cell_type": "code",
      "source": [
        "wn.synset('city.n.01').hyponyms()"
      ],
      "metadata": {
        "colab": {
          "base_uri": "https://localhost:8080/"
        },
        "id": "UJEX8j3DA0V9",
        "outputId": "b52be2aa-0e79-4952-9af1-bce9e7d6296b"
      },
      "execution_count": 30,
      "outputs": [
        {
          "output_type": "execute_result",
          "data": {
            "text/plain": [
              "[Synset('national_capital.n.01'),\n",
              " Synset('provincial_capital.n.01'),\n",
              " Synset('state_capital.n.01')]"
            ]
          },
          "metadata": {},
          "execution_count": 30
        }
      ]
    },
    {
      "cell_type": "code",
      "source": [
        "wn.synset('city.n.01').part_meronyms()"
      ],
      "metadata": {
        "colab": {
          "base_uri": "https://localhost:8080/"
        },
        "id": "wLWUE6eqJLAw",
        "outputId": "659b0e35-f5c6-46a9-c399-4caf8e71704a"
      },
      "execution_count": 33,
      "outputs": [
        {
          "output_type": "execute_result",
          "data": {
            "text/plain": [
              "[Synset('city_center.n.01'),\n",
              " Synset('civic_center.n.02'),\n",
              " Synset('concrete_jungle.n.01'),\n",
              " Synset('financial_center.n.01'),\n",
              " Synset('inner_city.n.01'),\n",
              " Synset('medical_center.n.01')]"
            ]
          },
          "metadata": {},
          "execution_count": 33
        }
      ]
    },
    {
      "cell_type": "code",
      "source": [
        "wn.synset('city.n.01').part_holonyms()"
      ],
      "metadata": {
        "colab": {
          "base_uri": "https://localhost:8080/"
        },
        "id": "kFowKLG4JLDN",
        "outputId": "a774e1d4-fc29-42b5-9ffb-957ccb21ee26"
      },
      "execution_count": 34,
      "outputs": [
        {
          "output_type": "execute_result",
          "data": {
            "text/plain": [
              "[]"
            ]
          },
          "metadata": {},
          "execution_count": 34
        }
      ]
    },
    {
      "cell_type": "code",
      "source": [
        "for lemma in wn.synset('city.n.01').lemmas():\n",
        "  print(\"Lemma:\", lemma)\n",
        "  print(\"Antonym(s):\", lemma.antonyms())"
      ],
      "metadata": {
        "colab": {
          "base_uri": "https://localhost:8080/"
        },
        "id": "MIgqQKLhJxQy",
        "outputId": "4702d9bc-3129-4960-a526-8dfdd92f6442"
      },
      "execution_count": 51,
      "outputs": [
        {
          "output_type": "stream",
          "name": "stdout",
          "text": [
            "Lemma: Lemma('city.n.01.city')\n",
            "Antonym(s): []\n",
            "Lemma: Lemma('city.n.01.metropolis')\n",
            "Antonym(s): []\n",
            "Lemma: Lemma('city.n.01.urban_center')\n",
            "Antonym(s): []\n"
          ]
        }
      ]
    },
    {
      "cell_type": "markdown",
      "source": [
        "### Finding Definition, Examples, and Lemmas of a Verb\n",
        "\n",
        "Chosen synset is 'solve.v.01'."
      ],
      "metadata": {
        "id": "9biQzzKOi98E"
      }
    },
    {
      "cell_type": "code",
      "source": [
        "wn.synsets(\"solve\")"
      ],
      "metadata": {
        "colab": {
          "base_uri": "https://localhost:8080/"
        },
        "id": "uRfXZCdQJxS6",
        "outputId": "10ef2515-fecc-4f7b-a5ec-2b153cb4bbb2"
      },
      "execution_count": 82,
      "outputs": [
        {
          "output_type": "execute_result",
          "data": {
            "text/plain": [
              "[Synset('solve.v.01'), Synset('resolve.v.06'), Synset('clear.v.19')]"
            ]
          },
          "metadata": {},
          "execution_count": 82
        }
      ]
    },
    {
      "cell_type": "code",
      "source": [
        "wn.synset('solve.v.01').definition()"
      ],
      "metadata": {
        "colab": {
          "base_uri": "https://localhost:8080/",
          "height": 35
        },
        "id": "IiFVLfxGJxVB",
        "outputId": "90bc690c-3f1b-442b-c2a4-cd69f28e02f7"
      },
      "execution_count": 83,
      "outputs": [
        {
          "output_type": "execute_result",
          "data": {
            "text/plain": [
              "'find the solution to (a problem or question) or understand the meaning of'"
            ],
            "application/vnd.google.colaboratory.intrinsic+json": {
              "type": "string"
            }
          },
          "metadata": {},
          "execution_count": 83
        }
      ]
    },
    {
      "cell_type": "code",
      "source": [
        "wn.synset('solve.v.01').examples()"
      ],
      "metadata": {
        "colab": {
          "base_uri": "https://localhost:8080/"
        },
        "id": "YmB3n2FrJxXE",
        "outputId": "84a77cdf-5ee5-4e3b-aa8a-3c1c5a61a61d"
      },
      "execution_count": 58,
      "outputs": [
        {
          "output_type": "execute_result",
          "data": {
            "text/plain": [
              "['did you solve the problem?',\n",
              " 'Work out your problems with the boss',\n",
              " \"this unpleasant situation isn't going to work itself out\",\n",
              " 'did you get it?',\n",
              " 'Did you get my meaning?',\n",
              " 'He could not work the math problem']"
            ]
          },
          "metadata": {},
          "execution_count": 58
        }
      ]
    },
    {
      "cell_type": "code",
      "source": [
        "wn.synset('solve.v.01').lemmas()"
      ],
      "metadata": {
        "colab": {
          "base_uri": "https://localhost:8080/"
        },
        "id": "pzBVYYHbJxZh",
        "outputId": "94abccef-e0c1-43ac-e4a7-a58b6d8fee61"
      },
      "execution_count": 61,
      "outputs": [
        {
          "output_type": "execute_result",
          "data": {
            "text/plain": [
              "[Lemma('solve.v.01.solve'),\n",
              " Lemma('solve.v.01.work_out'),\n",
              " Lemma('solve.v.01.figure_out'),\n",
              " Lemma('solve.v.01.puzzle_out'),\n",
              " Lemma('solve.v.01.lick'),\n",
              " Lemma('solve.v.01.work')]"
            ]
          },
          "metadata": {},
          "execution_count": 61
        }
      ]
    },
    {
      "cell_type": "markdown",
      "source": [
        "### WordNet Verb Hierarchy\n",
        "WordNet does not provide an abstract top level synset for verbs. The original verb synset yielded only one hypernym synset - \"understand.v.01\". That particular synset yielded no hypernyms.   "
      ],
      "metadata": {
        "id": "tBgAt8FdNWRq"
      }
    },
    {
      "cell_type": "code",
      "source": [
        "solve = wn.synset('solve.v.01')\n",
        "solve.hypernyms()"
      ],
      "metadata": {
        "colab": {
          "base_uri": "https://localhost:8080/"
        },
        "id": "R10yDyg0MDU4",
        "outputId": "e7fdbcbd-65c4-40c0-f2e4-cca21b6948b0"
      },
      "execution_count": 71,
      "outputs": [
        {
          "output_type": "execute_result",
          "data": {
            "text/plain": [
              "[Synset('understand.v.01')]"
            ]
          },
          "metadata": {},
          "execution_count": 71
        }
      ]
    },
    {
      "cell_type": "code",
      "source": [
        "solve.hypernyms()[0].hypernyms()"
      ],
      "metadata": {
        "colab": {
          "base_uri": "https://localhost:8080/"
        },
        "id": "SZorU-tLNBMI",
        "outputId": "929de624-22ea-428c-c7d6-a416f4fc6810"
      },
      "execution_count": 72,
      "outputs": [
        {
          "output_type": "execute_result",
          "data": {
            "text/plain": [
              "[]"
            ]
          },
          "metadata": {},
          "execution_count": 72
        }
      ]
    },
    {
      "cell_type": "markdown",
      "source": [
        "### Morphy\n",
        "Morphy returns the root forms of words. It can work with different parts of speech."
      ],
      "metadata": {
        "id": "T11DOzI3RQuR"
      }
    },
    {
      "cell_type": "code",
      "source": [
        " wn.morphy('solved', wn.VERB)"
      ],
      "metadata": {
        "colab": {
          "base_uri": "https://localhost:8080/",
          "height": 35
        },
        "id": "E78HfFBqNBVH",
        "outputId": "a121117a-7209-49a9-a578-034c7854a0e7"
      },
      "execution_count": 89,
      "outputs": [
        {
          "output_type": "execute_result",
          "data": {
            "text/plain": [
              "'solve'"
            ],
            "application/vnd.google.colaboratory.intrinsic+json": {
              "type": "string"
            }
          },
          "metadata": {},
          "execution_count": 89
        }
      ]
    },
    {
      "cell_type": "code",
      "source": [
        " wn.morphy('cities', wn.NOUN)"
      ],
      "metadata": {
        "colab": {
          "base_uri": "https://localhost:8080/",
          "height": 35
        },
        "id": "bdAi0VXmQLrK",
        "outputId": "e100e323-fe4e-4231-d944-f2b436f92f46"
      },
      "execution_count": 90,
      "outputs": [
        {
          "output_type": "execute_result",
          "data": {
            "text/plain": [
              "'city'"
            ],
            "application/vnd.google.colaboratory.intrinsic+json": {
              "type": "string"
            }
          },
          "metadata": {},
          "execution_count": 90
        }
      ]
    },
    {
      "cell_type": "markdown",
      "source": [
        "### Word Similarity\n",
        "The Wu-Palmer similarity metric yielded a low score for the words — \"tree\" and \"forest\". This suggests the lack of shared common ancestor words. \n",
        "\n",
        "Lesk algorithm can perform word sense disambiguation. Specifically, it looked at context words and inferred the original synset of the word — \"forest\".  "
      ],
      "metadata": {
        "id": "3q0jIJCARUI7"
      }
    },
    {
      "cell_type": "code",
      "source": [
        "tree = wn.synset(\"tree.n.01\")\n",
        "forest = wn.synset(\"forest.n.01\")"
      ],
      "metadata": {
        "id": "kwm_EVhHQYtu"
      },
      "execution_count": 103,
      "outputs": []
    },
    {
      "cell_type": "code",
      "source": [
        "print(wn.wup_similarity(tree, forest))"
      ],
      "metadata": {
        "colab": {
          "base_uri": "https://localhost:8080/"
        },
        "id": "EUmHoYFFQY39",
        "outputId": "59531f44-daf8-4844-ce6a-7fc829c4dc98"
      },
      "execution_count": 104,
      "outputs": [
        {
          "output_type": "stream",
          "name": "stdout",
          "text": [
            "0.125\n"
          ]
        }
      ]
    },
    {
      "cell_type": "code",
      "source": [
        "sentence = nltk.word_tokenize(\"I visited the trees in the forest.\")\n",
        "print(lesk(sentence, 'forest', 'n'))"
      ],
      "metadata": {
        "colab": {
          "base_uri": "https://localhost:8080/"
        },
        "id": "Ntu06pZHSX7o",
        "outputId": "5f73e8e1-579d-41ad-d05e-a7dd274ba1b3"
      },
      "execution_count": 107,
      "outputs": [
        {
          "output_type": "stream",
          "name": "stdout",
          "text": [
            "Synset('forest.n.01')\n"
          ]
        }
      ]
    },
    {
      "cell_type": "markdown",
      "source": [
        "### SentiWordNet\n",
        "SentiWordNet is a resource built on top of WordNet. For each synset, it can assign three sentiment scores: positivity, negativity, and objectivity. Regarding a possible use case, SentiWordNet can perform sentiment analysis on documents. \n",
        "\n",
        "### Observations and Thoughts\n",
        "Not surprisingly, the word, \"happy\", received a high positive score. I believe this word had a low objective score due to its subjectivity.\n",
        "\n",
        "With the exception of the adjective, the sentence contained many neutral words. As a result, nearly all of these tokens had a high objective score. \n",
        "\n",
        "In the broader context, these scores can assist NLP applications. Their utility enables the usage of sentiment analysis. The machine can conceptualize subjective information and assign an associated polarity score. "
      ],
      "metadata": {
        "id": "4X2LNSNEUHQ3"
      }
    },
    {
      "cell_type": "code",
      "source": [
        "happy_synsets = wn.synsets(\"happy\")\n",
        "senti_list = []\n",
        "for synset in happy_synsets:\n",
        "  senti_synset = swn.senti_synset(synset.name())\n",
        "  print(\"Synset:\", senti_synset.synset.name())\n",
        "  print(\"Positive Score:\", senti_synset.pos_score())\n",
        "  print(\"Negative Score:\", senti_synset.neg_score())\n",
        "  print(\"Objective Score:\", senti_synset.obj_score())\n",
        "  print(\"\\n\")\n",
        "\n"
      ],
      "metadata": {
        "colab": {
          "base_uri": "https://localhost:8080/"
        },
        "id": "4pSjqNZ0TqdY",
        "outputId": "5cbe8bb3-f353-4e5f-a7aa-5d5cea6cc8ff"
      },
      "execution_count": 117,
      "outputs": [
        {
          "output_type": "stream",
          "name": "stdout",
          "text": [
            "Word: happy.a.01\n",
            "Positive Score: 0.875\n",
            "Negative Score: 0.0\n",
            "Objective Score: 0.125\n",
            "\n",
            "\n",
            "Word: felicitous.s.02\n",
            "Positive Score: 0.75\n",
            "Negative Score: 0.0\n",
            "Objective Score: 0.25\n",
            "\n",
            "\n",
            "Word: glad.s.02\n",
            "Positive Score: 0.5\n",
            "Negative Score: 0.0\n",
            "Objective Score: 0.5\n",
            "\n",
            "\n",
            "Word: happy.s.04\n",
            "Positive Score: 0.125\n",
            "Negative Score: 0.0\n",
            "Objective Score: 0.875\n",
            "\n",
            "\n"
          ]
        }
      ]
    },
    {
      "cell_type": "code",
      "source": [
        "sentence = \"The story had a happy ending\"\n",
        "tokens = sentence.split()\n",
        "for token in tokens:\n",
        "  syn_list = list(swn.senti_synsets(token))\n",
        "  if syn_list:\n",
        "    print(\"Token:\", token)\n",
        "    print(\"Positive Score:\", syn_list[0].pos_score())\n",
        "    print(\"Negative Score:\", syn_list[0].neg_score())\n",
        "    print(\"Objective Score:\", syn_list[0].obj_score())\n",
        "    print(\"\\n\")    \n"
      ],
      "metadata": {
        "colab": {
          "base_uri": "https://localhost:8080/"
        },
        "id": "EhfpTUkIXfEH",
        "outputId": "36b83379-891d-48e1-8384-32aef73ea138"
      },
      "execution_count": 120,
      "outputs": [
        {
          "output_type": "stream",
          "name": "stdout",
          "text": [
            "Token: story\n",
            "Positive Score: 0.0\n",
            "Negative Score: 0.0\n",
            "Objective Score: 1.0\n",
            "\n",
            "\n",
            "Token: had\n",
            "Positive Score: 0.25\n",
            "Negative Score: 0.0\n",
            "Objective Score: 0.75\n",
            "\n",
            "\n",
            "Token: a\n",
            "Positive Score: 0.0\n",
            "Negative Score: 0.0\n",
            "Objective Score: 1.0\n",
            "\n",
            "\n",
            "Token: happy\n",
            "Positive Score: 0.875\n",
            "Negative Score: 0.0\n",
            "Objective Score: 0.125\n",
            "\n",
            "\n",
            "Token: ending\n",
            "Positive Score: 0.0\n",
            "Negative Score: 0.0\n",
            "Objective Score: 1.0\n",
            "\n",
            "\n"
          ]
        }
      ]
    },
    {
      "cell_type": "markdown",
      "source": [
        "### Collocations\n",
        "Collocations refer to popular combinations of two or more words. These words occur together with a frequency greater than chance. One example is the phrase — \"heavy rain\". "
      ],
      "metadata": {
        "id": "IAY8h6D4daC4"
      }
    },
    {
      "cell_type": "code",
      "source": [
        "text4.collocations()"
      ],
      "metadata": {
        "colab": {
          "base_uri": "https://localhost:8080/"
        },
        "id": "wiR_TDgpZb_z",
        "outputId": "fe4f8616-1a51-42e8-9eb0-6582f6bf7fc1"
      },
      "execution_count": 125,
      "outputs": [
        {
          "output_type": "stream",
          "name": "stdout",
          "text": [
            "United States; fellow citizens; years ago; four years; Federal\n",
            "Government; General Government; American people; Vice President; God\n",
            "bless; Chief Justice; one another; fellow Americans; Old World;\n",
            "Almighty God; Fellow citizens; Chief Magistrate; every citizen; Indian\n",
            "tribes; public debt; foreign nations\n"
          ]
        }
      ]
    },
    {
      "cell_type": "markdown",
      "source": [
        "### Mutual Information\n",
        "This formula finds collocations in text.\n",
        "\n",
        "![image.png](data:image/png;base64,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)"
      ],
      "metadata": {
        "id": "kwPn0uxdggzC"
      }
    },
    {
      "cell_type": "code",
      "source": [
        "text2.collocations()"
      ],
      "metadata": {
        "colab": {
          "base_uri": "https://localhost:8080/"
        },
        "id": "xrHJZzgEZcS5",
        "outputId": "050f0e69-f43f-4516-edc9-4122276fc917"
      },
      "execution_count": 131,
      "outputs": [
        {
          "output_type": "stream",
          "name": "stdout",
          "text": [
            "Colonel Brandon; Sir John; Lady Middleton; Miss Dashwood; every thing;\n",
            "thousand pounds; dare say; Miss Steeles; said Elinor; Miss Steele;\n",
            "every body; John Dashwood; great deal; Harley Street; Berkeley Street;\n",
            "Miss Dashwoods; young man; Combe Magna; every day; next morning\n"
          ]
        }
      ]
    },
    {
      "cell_type": "code",
      "source": [
        "text = ' '.join(text2.tokens)\n",
        "text[:500]"
      ],
      "metadata": {
        "colab": {
          "base_uri": "https://localhost:8080/",
          "height": 87
        },
        "id": "ff8DW3I0g6sX",
        "outputId": "d71c0746-ecf6-4530-d738-0ee371414308"
      },
      "execution_count": 135,
      "outputs": [
        {
          "output_type": "execute_result",
          "data": {
            "text/plain": [
              "'[ Sense and Sensibility by Jane Austen 1811 ] CHAPTER 1 The family of Dashwood had long been settled in Sussex . Their estate was large , and their residence was at Norland Park , in the centre of their property , where , for many generations , they had lived in so respectable a manner as to engage the general good opinion of their surrounding acquaintance . The late owner of this estate was a single man , who lived to a very advanced age , and who for many years of his life , had a constant com'"
            ],
            "application/vnd.google.colaboratory.intrinsic+json": {
              "type": "string"
            }
          },
          "metadata": {},
          "execution_count": 135
        }
      ]
    },
    {
      "cell_type": "markdown",
      "source": [
        "### Commentary and Interpretation\n",
        "PMI can range from negative to positive values. Because the pmi is positive, this suggests that the words—\"every\" and \"day\"— occur together at a frequency greater than chance. This indicates the presence of a collocation. "
      ],
      "metadata": {
        "id": "ec4AYKn8jxiG"
      }
    },
    {
      "cell_type": "code",
      "source": [
        "text_size = len(set(text2))\n",
        "every_day = text.count('every day')/text_size\n",
        "print(\"p(every day) = \", every_day )\n",
        "every = text.count('every')/text_size\n",
        "print(\"p(every) = \", every)\n",
        "day = text.count('day')/text_size\n",
        "print('p(day) = ', day)\n",
        "pmi = math.log2(every_day / (every * day))\n",
        "print('pmi = ', pmi)"
      ],
      "metadata": {
        "colab": {
          "base_uri": "https://localhost:8080/"
        },
        "id": "vPAXu9g1hQph",
        "outputId": "b74163eb-404b-4233-f99e-c81a37c4b504"
      },
      "execution_count": 137,
      "outputs": [
        {
          "output_type": "stream",
          "name": "stdout",
          "text": [
            "p(every day) =  0.004244109468754574\n",
            "p(every) =  0.05619786331040538\n",
            "p(day) =  0.03424557295477828\n",
            "pmi =  1.14095718629765\n"
          ]
        }
      ]
    }
  ]
}